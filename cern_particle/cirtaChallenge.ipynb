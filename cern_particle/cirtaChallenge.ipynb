{
 "cells": [
  {
   "cell_type": "markdown",
   "metadata": {},
   "source": [
    "# Particle type classification"
   ]
  },
  {
   "cell_type": "markdown",
   "metadata": {},
   "source": [
    "Welcome! \n",
    "\n",
    "In this challenge we want to build a machine learning model to help us recognize particles. Particles are the tiny constituant of matter generated in a collision between proton bunches at the Large Hadron Collider at CERN. \n",
    "\n",
    "Particles are of course of different types and identifying which particle was produced in an extremly important task for particle physicists. \n",
    "\n",
    "Our dataset comprises 350 independent simulated events, where each event contains labelled images of particle trajectories. \n",
    "\n",
    "A good model assigns the correct particle type to any particle, even the least frequent ones.\n",
    "\n",
    "Read throught this notebook to discover more about the particles."
   ]
  },
  {
   "cell_type": "code",
   "execution_count": 2,
   "metadata": {},
   "outputs": [],
   "source": [
    "#Import libraries to load and process data\n",
    "import numpy as np\n",
    "import pickle"
   ]
  },
  {
   "cell_type": "code",
   "execution_count": 3,
   "metadata": {},
   "outputs": [],
   "source": [
    "# replace by your own file path\n",
    "pkl_file = open('event1.pkl', 'rb')\n",
    "event1 = pickle.load(pkl_file)"
   ]
  },
  {
   "cell_type": "code",
   "execution_count": 4,
   "metadata": {},
   "outputs": [],
   "source": [
    "# get the data and target\n",
    "data,target=event1[0],event1[1]\n",
    "target=target.astype('int')"
   ]
  },
  {
   "cell_type": "code",
   "execution_count": 24,
   "metadata": {},
   "outputs": [],
   "source": [
    "# code to particle name dictionary -- more here : \n",
    "dic_types={11: \"electron\", 13 : \"muon\", 211:\"pion\", 321:\"kaon\",2212 : \"proton\"}"
   ]
  },
  {
   "cell_type": "markdown",
   "metadata": {},
   "source": [
    "## Example  of a particle"
   ]
  },
  {
   "cell_type": "code",
   "execution_count": 50,
   "metadata": {},
   "outputs": [
    {
     "data": {
      "image/png": "[encoded data removed]",
      "text/plain": [
       "<Figure size 432x288 with 1 Axes>"
      ]
     },
     "metadata": {
      "needs_background": "light"
     },
     "output_type": "display_data"
    }
   ],
   "source": [
    "import matplotlib.pyplot as plt\n",
    "plt.title(dic_types[target[0]])\n",
    "plt.imshow(data[0])\n",
    "plt.show()"
   ]
  },
  {
   "cell_type": "markdown",
   "metadata": {},
   "source": [
    "## Distribution of particles in an event"
   ]
  },
  {
   "cell_type": "code",
   "execution_count": 26,
   "metadata": {},
   "outputs": [
    {
     "data": {
      "image/png": "[encoded data removed]",
      "text/plain": [
       "<Figure size 432x288 with 1 Axes>"
      ]
     },
     "metadata": {
      "needs_background": "light"
     },
     "output_type": "display_data"
    }
   ],
   "source": [
    "\n",
    "from collections import Counter\n",
    "\n",
    "plt.bar(range(len(dic_types)),list(Counter(target).values()))\n",
    "plt.xticks(range(len(dic_types)), [dic_types[i] for i in list(Counter(target).keys())])\n",
    "\n",
    "plt.show()"
   ]
  },
  {
   "cell_type": "markdown",
   "metadata": {},
   "source": [
    "# SVM"
   ]
  },
  {
   "cell_type": "markdown",
   "metadata": {},
   "source": [
    "Let us try to predict the particle type with an SVM model from the famous sklearn library. First we split the data into training and test sets."
   ]
  },
  {
   "cell_type": "code",
   "execution_count": 27,
   "metadata": {},
   "outputs": [],
   "source": [
    "from sklearn.model_selection import train_test_split\n",
    "\n",
    "# we transform the 10x10 images into arrays of 100. You can play with that :) \n",
    "X_train, X_test, y_train, y_test = train_test_split(\n",
    "    [np.concatenate((i)) for i in data], target, test_size=0.20, random_state=42)"
   ]
  },
  {
   "cell_type": "code",
   "execution_count": 28,
   "metadata": {},
   "outputs": [
    {
     "data": {
      "text/plain": [
       "((2752, 100), (2752,))"
      ]
     },
     "execution_count": 28,
     "metadata": {},
     "output_type": "execute_result"
    }
   ],
   "source": [
    "#new shape of our data\n",
    "np.array(X_train).shape, np.array(y_train).shape"
   ]
  },
  {
   "cell_type": "code",
   "execution_count": 29,
   "metadata": {},
   "outputs": [
    {
     "data": {
      "text/plain": [
       "Counter({211: 2116, 2212: 248, 321: 379, 11: 8, 13: 1})"
      ]
     },
     "execution_count": 29,
     "metadata": {},
     "output_type": "execute_result"
    }
   ],
   "source": [
    "# particle distribution in our training\n",
    "Counter(y_train)"
   ]
  },
  {
   "cell_type": "code",
   "execution_count": 30,
   "metadata": {},
   "outputs": [
    {
     "data": {
      "text/plain": [
       "SVC(C=1.0, cache_size=200, class_weight=None, coef0=0.0,\n",
       "    decision_function_shape='ovr', degree=3, gamma='auto', kernel='rbf',\n",
       "    max_iter=-1, probability=False, random_state=None, shrinking=True,\n",
       "    tol=0.001, verbose=False)"
      ]
     },
     "execution_count": 30,
     "metadata": {},
     "output_type": "execute_result"
    }
   ],
   "source": [
    "from sklearn.svm import SVC\n",
    "clf = SVC(gamma='auto')\n",
    "clf.fit(X_train, y_train)"
   ]
  },
  {
   "cell_type": "code",
   "execution_count": 31,
   "metadata": {},
   "outputs": [
    {
     "data": {
      "text/plain": [
       "Counter({321: 93, 211: 516, 2212: 77, 11: 2, 13: 1})"
      ]
     },
     "execution_count": 31,
     "metadata": {},
     "output_type": "execute_result"
    }
   ],
   "source": [
    "# particle distribution in our test\n",
    "Counter(y_test)"
   ]
  },
  {
   "cell_type": "code",
   "execution_count": 32,
   "metadata": {},
   "outputs": [
    {
     "data": {
      "text/plain": [
       "0.7489114658925979"
      ]
     },
     "execution_count": 32,
     "metadata": {},
     "output_type": "execute_result"
    }
   ],
   "source": [
    "clf.score(X_test,y_test)"
   ]
  },
  {
   "cell_type": "markdown",
   "metadata": {},
   "source": [
    "The score is already pretty good ! Let's now try to focus on less frequent particle by removing the most redundant one, the \"pion\""
   ]
  },
  {
   "cell_type": "code",
   "execution_count": 33,
   "metadata": {},
   "outputs": [
    {
     "data": {
      "text/plain": [
       "Counter({321: 93, 2212: 77, 11: 2, 13: 1})"
      ]
     },
     "execution_count": 33,
     "metadata": {},
     "output_type": "execute_result"
    }
   ],
   "source": [
    "#we have now reduced our test sample ! \n",
    "idx_non_pion=np.where(y_test!=211)[0]\n",
    "Counter(y_test[idx_non_pion])"
   ]
  },
  {
   "cell_type": "code",
   "execution_count": 34,
   "metadata": {},
   "outputs": [
    {
     "data": {
      "text/plain": [
       "0.0"
      ]
     },
     "execution_count": 34,
     "metadata": {},
     "output_type": "execute_result"
    }
   ],
   "source": [
    "#let's see how our model behaves then\n",
    "\n",
    "clf.score(np.array(X_test)[idx_non_pion],np.array(y_test)[idx_non_pion])"
   ]
  },
  {
   "cell_type": "markdown",
   "metadata": {},
   "source": [
    "### oups !! Our model is actually really bad then..."
   ]
  },
  {
   "cell_type": "code",
   "execution_count": 35,
   "metadata": {},
   "outputs": [
    {
     "data": {
      "text/plain": [
       "array([211, 211, 211, 211, 211, 211, 211, 211, 211, 211, 211, 211, 211,\n",
       "       211, 211, 211, 211, 211, 211, 211, 211, 211, 211, 211, 211, 211,\n",
       "       211, 211, 211, 211, 211, 211, 211, 211, 211, 211, 211, 211, 211,\n",
       "       211, 211, 211, 211, 211, 211, 211, 211, 211, 211, 211, 211, 211,\n",
       "       211, 211, 211, 211, 211, 211, 211, 211, 211, 211, 211, 211, 211,\n",
       "       211, 211, 211, 211, 211, 211, 211, 211, 211, 211, 211, 211, 211,\n",
       "       211, 211, 211, 211, 211, 211, 211, 211, 211, 211, 211, 211, 211,\n",
       "       211, 211, 211, 211, 211, 211, 211, 211, 211, 211, 211, 211, 211,\n",
       "       211, 211, 211, 211, 211, 211, 211, 211, 211, 211, 211, 211, 211,\n",
       "       211, 211, 211, 211, 211, 211, 211, 211, 211, 211, 211, 211, 211,\n",
       "       211, 211, 211, 211, 211, 211, 211, 211, 211, 211, 211, 211, 211,\n",
       "       211, 211, 211, 211, 211, 211, 211, 211, 211, 211, 211, 211, 211,\n",
       "       211, 211, 211, 211, 211, 211, 211, 211, 211, 211, 211, 211, 211,\n",
       "       211, 211, 211, 211])"
      ]
     },
     "execution_count": 35,
     "metadata": {},
     "output_type": "execute_result"
    }
   ],
   "source": [
    "#let's take a closer look at which particle type the model is predicting \n",
    "clf.predict(np.array(X_test)[idx_non_pion])"
   ]
  },
  {
   "cell_type": "markdown",
   "metadata": {},
   "source": [
    "## It seems our model is overfitting by predicting only pions! Can you help improve it?"
   ]
  }
 ],
 "metadata": {
  "kernelspec": {
   "display_name": "Python 3",
   "language": "python",
   "name": "python3"
  },
  "language_info": {
   "codemirror_mode": {
    "name": "ipython",
    "version": 3
   },
   "file_extension": ".py",
   "mimetype": "text/x-python",
   "name": "python",
   "nbconvert_exporter": "python",
   "pygments_lexer": "ipython3",
   "version": "3.7.3"
  }
 },
 "nbformat": 4,
 "nbformat_minor": 2
}
